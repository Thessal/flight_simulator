{
 "cells": [
  {
   "cell_type": "code",
   "execution_count": 1,
   "id": "734c3627",
   "metadata": {},
   "outputs": [
    {
     "name": "stderr",
     "output_type": "stream",
     "text": [
      "2023-10-06 18:11:04,706\tWARNING deprecation.py:50 -- DeprecationWarning: `DirectStepOptimizer` has been deprecated. This will raise an error in the future!\n",
      "2023-10-06 18:11:04,775\tWARNING deprecation.py:50 -- DeprecationWarning: `build_tf_policy` has been deprecated. This will raise an error in the future!\n",
      "2023-10-06 18:11:04,777\tWARNING deprecation.py:50 -- DeprecationWarning: `build_policy_class` has been deprecated. This will raise an error in the future!\n"
     ]
    }
   ],
   "source": [
    "import airline\n",
    "import environment\n",
    "\n",
    "import os\n",
    "import ray\n",
    "from ray import air, tune\n",
    "from ray import tune\n",
    "from ray.rllib.algorithms.ppo import PPOConfig\n",
    "from ray.rllib.algorithms.ddpg import DDPGConfig\n",
    "from ray.rllib.algorithms.dqn import DQNConfig\n",
    "from ray.rllib.env import PettingZooEnv\n",
    "from ray.tune.registry import register_env\n",
    "import multiprocessing\n",
    "from ray.rllib.algorithms.dqn import DQN\n",
    "\n",
    "import numpy as np\n",
    "import matplotlib.pyplot as plt"
   ]
  },
  {
   "cell_type": "code",
   "execution_count": 2,
   "id": "30f0700e",
   "metadata": {},
   "outputs": [],
   "source": [
    "def simulate(n=300, action=airline.DEFAULT_POLICY, cfg=dict()):\n",
    "    config = airline.CONFIG.copy()\n",
    "    config.update(cfg)\n",
    "    dfs = airline.get_df()\n",
    "    print(config)\n",
    "    sim = airline.Simulator(config, dfs, add_flights=True, save_history=True)\n",
    "\n",
    "    actions = {x:action for x in sim.airports}\n",
    "    # for i in range(30000):\n",
    "    for i in range(n):\n",
    "        sim.step()\n",
    "    return sim.history"
   ]
  },
  {
   "cell_type": "code",
   "execution_count": 3,
   "id": "b42aaca6",
   "metadata": {},
   "outputs": [],
   "source": [
    "# from ray.rllib.algorithms.algorithm import Algorithm\n",
    "# from ray.rllib.algorithms.simple_q import SimpleQConfig\n",
    "# from ray.rllib.utils.checkpoints import convert_to_msgpack_checkpoint\n",
    "# checkpoint = \"./ray_results/airline/DQN/DQN_airline_d22b8_00000_0_2023-10-05_10-16-33/checkpoint_000008\"\n",
    "# checkpoint_msgpack = \"./ray_results/airline/msgpack\"\n",
    "# convert_to_msgpack_checkpoint(checkpoint, checkpoint_msgpack)\n",
    "\n",
    "def load_agent(checkpoint = \"./ray_results/airline/DQN/DQN_airline_d22b8_00000_0_2023-10-05_10-16-33/checkpoint_000008\"):\n",
    "    ray.shutdown()\n",
    "    ray.init()\n",
    "\n",
    "    cfg = airline.CONFIG.copy()\n",
    "    sim_days = 30\n",
    "    cfg[\"num_iters\"] = sim_days * 24 * 60 // cfg[\"timestep\"]\n",
    "    def env_creator(cfg):\n",
    "        # env = environment.env(cfg, render_mode=\"human\")\n",
    "        env = environment.env(cfg, render_mode=None)\n",
    "        env.reset(seed=42)\n",
    "        return PettingZooEnv(env)\n",
    "    env_name = \"airline\"\n",
    "    register_env(env_name, env_creator)\n",
    "\n",
    "    env = env_creator(cfg)\n",
    "    obs_space = env.observation_space\n",
    "    act_space = env.action_space\n",
    "    policies = {agent_id:(None, obs_space, act_space, {}) for agent_id in env.get_agent_ids()}\n",
    "\n",
    "    n_workers = int(0.8*multiprocessing.cpu_count())\n",
    "    config = (\n",
    "        DQNConfig()\n",
    "        .environment(\n",
    "            env=env_name, \n",
    "            env_config=cfg,\n",
    "            )\n",
    "        # .training(gamma=0.9, lr=0.01)\n",
    "        .training(train_batch_size=n_workers*len(policies))\n",
    "        .rollouts(num_rollout_workers=n_workers, rollout_fragment_length=len(policies))\n",
    "        .multi_agent(\n",
    "            policies=policies,\n",
    "            policy_mapping_fn=(lambda agent_id, *args, **kwargs: agent_id),      \n",
    "            )\n",
    "        .resources(num_gpus=int(os.environ.get(\"RLLIB_NUM_GPUS\", \"0\")))\n",
    "        .debugging(\n",
    "            log_level=\"ERROR\"\n",
    "            # log_level=\"DEBUG\"\n",
    "        ) \n",
    "        .framework(framework=\"torch\")\n",
    "    )\n",
    "\n",
    "    agent = DQN(config=config)\n",
    "    agent.restore(checkpoint)\n",
    "    return agent"
   ]
  },
  {
   "cell_type": "code",
   "execution_count": 4,
   "id": "edf31701",
   "metadata": {},
   "outputs": [],
   "source": [
    "def simulate_with_agent(agent, n=300):\n",
    "    cfg = airline.CONFIG.copy()\n",
    "    dfs = airline.get_df()\n",
    "    print(cfg)\n",
    "    sim = airline.Simulator(airline.CONFIG, dfs, add_flights=True, save_history=True)\n",
    "\n",
    "    # for i in range(30000):\n",
    "    for i in range(n):\n",
    "        for icao in cfg['agent_airports']:\n",
    "            sim.airports[icao].policy = agent.compute_single_action(\n",
    "                observation=sim.airports[icao].observe(),\n",
    "                state=[sim.airports[icao].policy],\n",
    "                policy_id = icao,\n",
    "            )\n",
    "        sim.step()\n",
    "    return sim.history"
   ]
  },
  {
   "cell_type": "code",
   "execution_count": 5,
   "id": "ca7937ab",
   "metadata": {},
   "outputs": [],
   "source": [
    "def chart(history):\n",
    "    import pandas as pd\n",
    "    data = { \n",
    "        i:{\n",
    "            **{k:x[k] for k in [\"incoming_count\",\"incoming_delay\",\"outgoing_count\",\"outgoing_delay\",\"policy\"]},\n",
    "            \"landed_count\":{k : len(v) for k,v in x[\"landed\"].items()},\n",
    "            \"landed_delay\":{k : sum(max(0,y[\"takeoff_ready\"]-y[\"takeoff_plan\"]) for y in v.values()) for k,v in x[\"landed\"].items()},\n",
    "        }\n",
    "        for i, x in history.items() if (i != \"current\")\n",
    "    }\n",
    "    df = pd.Series({(k,kk,kkk):vvv for k,v in data.items() for kk, vv in v.items() for kkk, vvv in vv.items()}).unstack()\n",
    "\n",
    "    df_RKSI = df[\"RKSI\"].unstack()\n",
    "    #df_RKSI[\"policy\"].plot()\n",
    "\n",
    "    avg_delay = (df_RKSI[\"outgoing_delay\"].iloc[-1] / (df_RKSI[\"outgoing_count\"].iloc[-1]))\n",
    "    plt.figure()\n",
    "    pd.Series({k:v[\"num_flights\"] for k,v in history.items() if k!=\"current\"}).plot()\n",
    "    plt.figure()\n",
    "    (df_RKSI[[\"incoming_delay\",\"outgoing_delay\"]].diff().divide(df_RKSI[[\"incoming_count\",\"outgoing_count\"]].diff().values+0.01)).plot()\n",
    "    plt.figure()\n",
    "    df_delay = (df_RKSI[\"outgoing_delay\"].diff() / (df_RKSI[\"outgoing_count\"].diff()))\n",
    "    df_delay = df_delay[df_delay>0]\n",
    "    df_delay.plot.hist(bins=30, logx=True, logy=True, title=f\"average:{avg_delay}\")\n",
    "    plt.figure()\n",
    "    df_delay.plot.hist(bins=30, logy=False, title=f\"average:{avg_delay}\")\n",
    "    plt.show()"
   ]
  },
  {
   "cell_type": "code",
   "execution_count": null,
   "id": "2e20000f",
   "metadata": {},
   "outputs": [
    {
     "name": "stdout",
     "output_type": "stream",
     "text": [
      "{'std_delay': 10, 'buffer_time': 60, 'late_threshold': 15, 'holding_period': 15, 'timestep': 10, 'capacity': 10, 'num_plane': 100, 'num_iters': 30000, 'agent_airports': ['RKSI', 'RKSS', 'RKPK', 'RKPC', 'RKTN', 'RKTU', 'RKJB'], 'return_p': 0.0, 'debug': False}\n"
     ]
    }
   ],
   "source": [
    "chart(simulate(n=10000, action=0))"
   ]
  },
  {
   "cell_type": "code",
   "execution_count": null,
   "id": "fc773bc3",
   "metadata": {},
   "outputs": [],
   "source": [
    "chart(simulate(n=10000, action=1))"
   ]
  },
  {
   "cell_type": "code",
   "execution_count": null,
   "id": "53936cbe",
   "metadata": {},
   "outputs": [],
   "source": [
    "chart(simulate(n=10000, action=2))"
   ]
  },
  {
   "cell_type": "code",
   "execution_count": null,
   "id": "12da5217",
   "metadata": {},
   "outputs": [],
   "source": [
    "agent = load_agent()\n",
    "chart(simulate_with_agent(agent, n=10000))"
   ]
  },
  {
   "cell_type": "code",
   "execution_count": null,
   "id": "57ef5a9a",
   "metadata": {},
   "outputs": [],
   "source": []
  }
 ],
 "metadata": {
  "kernelspec": {
   "display_name": "Python 3 (ipykernel)",
   "language": "python",
   "name": "python3"
  },
  "language_info": {
   "codemirror_mode": {
    "name": "ipython",
    "version": 3
   },
   "file_extension": ".py",
   "mimetype": "text/x-python",
   "name": "python",
   "nbconvert_exporter": "python",
   "pygments_lexer": "ipython3",
   "version": "3.9.7"
  }
 },
 "nbformat": 4,
 "nbformat_minor": 5
}
